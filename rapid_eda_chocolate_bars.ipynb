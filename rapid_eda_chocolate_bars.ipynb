{
 "cells": [
  {
   "cell_type": "markdown",
   "id": "7fc00bdb-5e46-498e-a428-7cff041ea16d",
   "metadata": {},
   "source": [
    "# A look at chocolate bars"
   ]
  },
  {
   "cell_type": "code",
   "execution_count": 13,
   "id": "dccb4f1b-0624-4a58-92e4-7bb6e0189e6c",
   "metadata": {},
   "outputs": [],
   "source": [
    "# import libraries to help with discovery and visualization\n",
    "import pandas as pd\n",
    "import numpy as np\n",
    "import matplotlib as mpl\n",
    "import matplotlib.pyplot as plt\n",
    "import seaborn as sns\n",
    "from scipy import stats"
   ]
  },
  {
   "cell_type": "code",
   "execution_count": 14,
   "id": "cb1f8098-aa23-480a-81d2-537c6c3e9151",
   "metadata": {},
   "outputs": [
    {
     "name": "stdout",
     "output_type": "stream",
     "text": [
      "<class 'pandas.core.frame.DataFrame'>\n",
      "RangeIndex: 1795 entries, 0 to 1794\n",
      "Data columns (total 9 columns):\n",
      " #   Column                            Non-Null Count  Dtype  \n",
      "---  ------                            --------------  -----  \n",
      " 0   Company \n",
      "(Maker-if known)         1795 non-null   object \n",
      " 1   Specific Bean Origin\n",
      "or Bar Name  1795 non-null   object \n",
      " 2   REF                               1795 non-null   int64  \n",
      " 3   Review\n",
      "Date                       1795 non-null   int64  \n",
      " 4   Cocoa\n",
      "Percent                     1795 non-null   object \n",
      " 5   Company\n",
      "Location                  1795 non-null   object \n",
      " 6   Rating                            1795 non-null   float64\n",
      " 7   Bean\n",
      "Type                         1794 non-null   object \n",
      " 8   Broad Bean\n",
      "Origin                 1794 non-null   object \n",
      "dtypes: float64(1), int64(2), object(6)\n",
      "memory usage: 126.3+ KB\n"
     ]
    }
   ],
   "source": [
    "df = pd.read_csv(\"data/flavors_of_cacao.csv\")\n",
    "df.info()"
   ]
  },
  {
   "cell_type": "code",
   "execution_count": 15,
   "id": "b0af782c-f2e0-465c-aa50-271eca78cdc1",
   "metadata": {},
   "outputs": [
    {
     "data": {
      "text/html": [
       "<div>\n",
       "<style scoped>\n",
       "    .dataframe tbody tr th:only-of-type {\n",
       "        vertical-align: middle;\n",
       "    }\n",
       "\n",
       "    .dataframe tbody tr th {\n",
       "        vertical-align: top;\n",
       "    }\n",
       "\n",
       "    .dataframe thead th {\n",
       "        text-align: right;\n",
       "    }\n",
       "</style>\n",
       "<table border=\"1\" class=\"dataframe\">\n",
       "  <thead>\n",
       "    <tr style=\"text-align: right;\">\n",
       "      <th></th>\n",
       "      <th>REF</th>\n",
       "      <th>Review\\nDate</th>\n",
       "      <th>Rating</th>\n",
       "    </tr>\n",
       "  </thead>\n",
       "  <tbody>\n",
       "    <tr>\n",
       "      <th>count</th>\n",
       "      <td>1795.000000</td>\n",
       "      <td>1795.000000</td>\n",
       "      <td>1795.000000</td>\n",
       "    </tr>\n",
       "    <tr>\n",
       "      <th>mean</th>\n",
       "      <td>1035.904735</td>\n",
       "      <td>2012.325348</td>\n",
       "      <td>3.185933</td>\n",
       "    </tr>\n",
       "    <tr>\n",
       "      <th>std</th>\n",
       "      <td>552.886365</td>\n",
       "      <td>2.927210</td>\n",
       "      <td>0.478062</td>\n",
       "    </tr>\n",
       "    <tr>\n",
       "      <th>min</th>\n",
       "      <td>5.000000</td>\n",
       "      <td>2006.000000</td>\n",
       "      <td>1.000000</td>\n",
       "    </tr>\n",
       "    <tr>\n",
       "      <th>25%</th>\n",
       "      <td>576.000000</td>\n",
       "      <td>2010.000000</td>\n",
       "      <td>2.875000</td>\n",
       "    </tr>\n",
       "    <tr>\n",
       "      <th>50%</th>\n",
       "      <td>1069.000000</td>\n",
       "      <td>2013.000000</td>\n",
       "      <td>3.250000</td>\n",
       "    </tr>\n",
       "    <tr>\n",
       "      <th>75%</th>\n",
       "      <td>1502.000000</td>\n",
       "      <td>2015.000000</td>\n",
       "      <td>3.500000</td>\n",
       "    </tr>\n",
       "    <tr>\n",
       "      <th>max</th>\n",
       "      <td>1952.000000</td>\n",
       "      <td>2017.000000</td>\n",
       "      <td>5.000000</td>\n",
       "    </tr>\n",
       "  </tbody>\n",
       "</table>\n",
       "</div>"
      ],
      "text/plain": [
       "               REF  Review\\nDate       Rating\n",
       "count  1795.000000   1795.000000  1795.000000\n",
       "mean   1035.904735   2012.325348     3.185933\n",
       "std     552.886365      2.927210     0.478062\n",
       "min       5.000000   2006.000000     1.000000\n",
       "25%     576.000000   2010.000000     2.875000\n",
       "50%    1069.000000   2013.000000     3.250000\n",
       "75%    1502.000000   2015.000000     3.500000\n",
       "max    1952.000000   2017.000000     5.000000"
      ]
     },
     "execution_count": 15,
     "metadata": {},
     "output_type": "execute_result"
    }
   ],
   "source": [
    "df.describe()"
   ]
  },
  {
   "cell_type": "code",
   "execution_count": 16,
   "id": "d3f5f420-ffb8-4e0b-9d3a-35feedaf62d3",
   "metadata": {},
   "outputs": [
    {
     "data": {
      "text/html": [
       "<div>\n",
       "<style scoped>\n",
       "    .dataframe tbody tr th:only-of-type {\n",
       "        vertical-align: middle;\n",
       "    }\n",
       "\n",
       "    .dataframe tbody tr th {\n",
       "        vertical-align: top;\n",
       "    }\n",
       "\n",
       "    .dataframe thead th {\n",
       "        text-align: right;\n",
       "    }\n",
       "</style>\n",
       "<table border=\"1\" class=\"dataframe\">\n",
       "  <thead>\n",
       "    <tr style=\"text-align: right;\">\n",
       "      <th></th>\n",
       "      <th>Company \\n(Maker-if known)</th>\n",
       "      <th>Specific Bean Origin\\nor Bar Name</th>\n",
       "      <th>REF</th>\n",
       "      <th>Review\\nDate</th>\n",
       "      <th>Cocoa\\nPercent</th>\n",
       "      <th>Company\\nLocation</th>\n",
       "      <th>Rating</th>\n",
       "      <th>Bean\\nType</th>\n",
       "      <th>Broad Bean\\nOrigin</th>\n",
       "    </tr>\n",
       "  </thead>\n",
       "  <tbody>\n",
       "    <tr>\n",
       "      <th>0</th>\n",
       "      <td>A. Morin</td>\n",
       "      <td>Agua Grande</td>\n",
       "      <td>1876</td>\n",
       "      <td>2016</td>\n",
       "      <td>63%</td>\n",
       "      <td>France</td>\n",
       "      <td>3.75</td>\n",
       "      <td></td>\n",
       "      <td>Sao Tome</td>\n",
       "    </tr>\n",
       "    <tr>\n",
       "      <th>1</th>\n",
       "      <td>A. Morin</td>\n",
       "      <td>Kpime</td>\n",
       "      <td>1676</td>\n",
       "      <td>2015</td>\n",
       "      <td>70%</td>\n",
       "      <td>France</td>\n",
       "      <td>2.75</td>\n",
       "      <td></td>\n",
       "      <td>Togo</td>\n",
       "    </tr>\n",
       "    <tr>\n",
       "      <th>2</th>\n",
       "      <td>A. Morin</td>\n",
       "      <td>Atsane</td>\n",
       "      <td>1676</td>\n",
       "      <td>2015</td>\n",
       "      <td>70%</td>\n",
       "      <td>France</td>\n",
       "      <td>3.00</td>\n",
       "      <td></td>\n",
       "      <td>Togo</td>\n",
       "    </tr>\n",
       "    <tr>\n",
       "      <th>3</th>\n",
       "      <td>A. Morin</td>\n",
       "      <td>Akata</td>\n",
       "      <td>1680</td>\n",
       "      <td>2015</td>\n",
       "      <td>70%</td>\n",
       "      <td>France</td>\n",
       "      <td>3.50</td>\n",
       "      <td></td>\n",
       "      <td>Togo</td>\n",
       "    </tr>\n",
       "    <tr>\n",
       "      <th>4</th>\n",
       "      <td>A. Morin</td>\n",
       "      <td>Quilla</td>\n",
       "      <td>1704</td>\n",
       "      <td>2015</td>\n",
       "      <td>70%</td>\n",
       "      <td>France</td>\n",
       "      <td>3.50</td>\n",
       "      <td></td>\n",
       "      <td>Peru</td>\n",
       "    </tr>\n",
       "  </tbody>\n",
       "</table>\n",
       "</div>"
      ],
      "text/plain": [
       "  Company \\n(Maker-if known) Specific Bean Origin\\nor Bar Name   REF  \\\n",
       "0                   A. Morin                       Agua Grande  1876   \n",
       "1                   A. Morin                             Kpime  1676   \n",
       "2                   A. Morin                            Atsane  1676   \n",
       "3                   A. Morin                             Akata  1680   \n",
       "4                   A. Morin                            Quilla  1704   \n",
       "\n",
       "   Review\\nDate Cocoa\\nPercent Company\\nLocation  Rating Bean\\nType  \\\n",
       "0          2016            63%            France    3.75              \n",
       "1          2015            70%            France    2.75              \n",
       "2          2015            70%            France    3.00              \n",
       "3          2015            70%            France    3.50              \n",
       "4          2015            70%            France    3.50              \n",
       "\n",
       "  Broad Bean\\nOrigin  \n",
       "0           Sao Tome  \n",
       "1               Togo  \n",
       "2               Togo  \n",
       "3               Togo  \n",
       "4               Peru  "
      ]
     },
     "execution_count": 16,
     "metadata": {},
     "output_type": "execute_result"
    }
   ],
   "source": [
    "df.head()"
   ]
  },
  {
   "cell_type": "code",
   "execution_count": 17,
   "id": "400cec9c-9a75-443a-9f02-7f77a0f221f6",
   "metadata": {},
   "outputs": [],
   "source": [
    "# remove the \\n from the column names\n",
    "\n",
    "columns = ['Specific Bean Origin\\nor Bar Name', 'Review\\nDate', 'Cocoa\\nPercent', 'Company\\nLocation', 'Bean\\nType', 'Broad Bean\\nOrigin'] \n",
    "df.columns = df.columns.str.replace('\\n', ' ')"
   ]
  },
  {
   "cell_type": "code",
   "execution_count": 18,
   "id": "99b77311-f433-4d66-b1ff-88fe945d5696",
   "metadata": {},
   "outputs": [
    {
     "data": {
      "text/html": [
       "<div>\n",
       "<style scoped>\n",
       "    .dataframe tbody tr th:only-of-type {\n",
       "        vertical-align: middle;\n",
       "    }\n",
       "\n",
       "    .dataframe tbody tr th {\n",
       "        vertical-align: top;\n",
       "    }\n",
       "\n",
       "    .dataframe thead th {\n",
       "        text-align: right;\n",
       "    }\n",
       "</style>\n",
       "<table border=\"1\" class=\"dataframe\">\n",
       "  <thead>\n",
       "    <tr style=\"text-align: right;\">\n",
       "      <th></th>\n",
       "      <th>Company  (Maker-if known)</th>\n",
       "      <th>Specific Bean Origin or Bar Name</th>\n",
       "      <th>REF</th>\n",
       "      <th>Review Date</th>\n",
       "      <th>Cocoa Percent</th>\n",
       "      <th>Company Location</th>\n",
       "      <th>Rating</th>\n",
       "      <th>Bean Type</th>\n",
       "      <th>Broad Bean Origin</th>\n",
       "    </tr>\n",
       "  </thead>\n",
       "  <tbody>\n",
       "    <tr>\n",
       "      <th>0</th>\n",
       "      <td>A. Morin</td>\n",
       "      <td>Agua Grande</td>\n",
       "      <td>1876</td>\n",
       "      <td>2016</td>\n",
       "      <td>63%</td>\n",
       "      <td>France</td>\n",
       "      <td>3.75</td>\n",
       "      <td></td>\n",
       "      <td>Sao Tome</td>\n",
       "    </tr>\n",
       "    <tr>\n",
       "      <th>1</th>\n",
       "      <td>A. Morin</td>\n",
       "      <td>Kpime</td>\n",
       "      <td>1676</td>\n",
       "      <td>2015</td>\n",
       "      <td>70%</td>\n",
       "      <td>France</td>\n",
       "      <td>2.75</td>\n",
       "      <td></td>\n",
       "      <td>Togo</td>\n",
       "    </tr>\n",
       "    <tr>\n",
       "      <th>2</th>\n",
       "      <td>A. Morin</td>\n",
       "      <td>Atsane</td>\n",
       "      <td>1676</td>\n",
       "      <td>2015</td>\n",
       "      <td>70%</td>\n",
       "      <td>France</td>\n",
       "      <td>3.00</td>\n",
       "      <td></td>\n",
       "      <td>Togo</td>\n",
       "    </tr>\n",
       "    <tr>\n",
       "      <th>3</th>\n",
       "      <td>A. Morin</td>\n",
       "      <td>Akata</td>\n",
       "      <td>1680</td>\n",
       "      <td>2015</td>\n",
       "      <td>70%</td>\n",
       "      <td>France</td>\n",
       "      <td>3.50</td>\n",
       "      <td></td>\n",
       "      <td>Togo</td>\n",
       "    </tr>\n",
       "    <tr>\n",
       "      <th>4</th>\n",
       "      <td>A. Morin</td>\n",
       "      <td>Quilla</td>\n",
       "      <td>1704</td>\n",
       "      <td>2015</td>\n",
       "      <td>70%</td>\n",
       "      <td>France</td>\n",
       "      <td>3.50</td>\n",
       "      <td></td>\n",
       "      <td>Peru</td>\n",
       "    </tr>\n",
       "  </tbody>\n",
       "</table>\n",
       "</div>"
      ],
      "text/plain": [
       "  Company  (Maker-if known) Specific Bean Origin or Bar Name   REF  \\\n",
       "0                  A. Morin                      Agua Grande  1876   \n",
       "1                  A. Morin                            Kpime  1676   \n",
       "2                  A. Morin                           Atsane  1676   \n",
       "3                  A. Morin                            Akata  1680   \n",
       "4                  A. Morin                           Quilla  1704   \n",
       "\n",
       "   Review Date Cocoa Percent Company Location  Rating Bean Type  \\\n",
       "0         2016           63%           France    3.75             \n",
       "1         2015           70%           France    2.75             \n",
       "2         2015           70%           France    3.00             \n",
       "3         2015           70%           France    3.50             \n",
       "4         2015           70%           France    3.50             \n",
       "\n",
       "  Broad Bean Origin  \n",
       "0          Sao Tome  \n",
       "1              Togo  \n",
       "2              Togo  \n",
       "3              Togo  \n",
       "4              Peru  "
      ]
     },
     "execution_count": 18,
     "metadata": {},
     "output_type": "execute_result"
    }
   ],
   "source": [
    "df.head(5)"
   ]
  },
  {
   "cell_type": "code",
   "execution_count": 21,
   "id": "ad72ee87",
   "metadata": {},
   "outputs": [
    {
     "name": "stdout",
     "output_type": "stream",
     "text": [
      "<class 'pandas.core.frame.DataFrame'>\n",
      "RangeIndex: 1795 entries, 0 to 1794\n",
      "Data columns (total 9 columns):\n",
      " #   Column                            Non-Null Count  Dtype  \n",
      "---  ------                            --------------  -----  \n",
      " 0   Company  (Maker-if known)         1795 non-null   object \n",
      " 1   Specific Bean Origin or Bar Name  1795 non-null   object \n",
      " 2   REF                               1795 non-null   int64  \n",
      " 3   Review Date                       1795 non-null   int64  \n",
      " 4   Cocoa Percent                     1795 non-null   object \n",
      " 5   Company Location                  1795 non-null   object \n",
      " 6   Rating                            1795 non-null   float64\n",
      " 7   Bean Type                         1794 non-null   object \n",
      " 8   Broad Bean Origin                 1794 non-null   object \n",
      "dtypes: float64(1), int64(2), object(6)\n",
      "memory usage: 126.3+ KB\n"
     ]
    }
   ],
   "source": [
    "df.info()"
   ]
  },
  {
   "cell_type": "code",
   "execution_count": 35,
   "id": "ca0fe610",
   "metadata": {},
   "outputs": [
    {
     "data": {
      "text/html": [
       "<div>\n",
       "<style scoped>\n",
       "    .dataframe tbody tr th:only-of-type {\n",
       "        vertical-align: middle;\n",
       "    }\n",
       "\n",
       "    .dataframe tbody tr th {\n",
       "        vertical-align: top;\n",
       "    }\n",
       "\n",
       "    .dataframe thead th {\n",
       "        text-align: right;\n",
       "    }\n",
       "</style>\n",
       "<table border=\"1\" class=\"dataframe\">\n",
       "  <thead>\n",
       "    <tr style=\"text-align: right;\">\n",
       "      <th></th>\n",
       "      <th>Company  (Maker-if known)</th>\n",
       "      <th>Specific Bean Origin or Bar Name</th>\n",
       "      <th>REF</th>\n",
       "      <th>Review Date</th>\n",
       "      <th>Cocoa Percent</th>\n",
       "      <th>Company Location</th>\n",
       "      <th>Rating</th>\n",
       "      <th>Bean Type</th>\n",
       "      <th>Broad Bean Origin</th>\n",
       "    </tr>\n",
       "  </thead>\n",
       "  <tbody>\n",
       "    <tr>\n",
       "      <th>1785</th>\n",
       "      <td>Zotter</td>\n",
       "      <td>Huiwani Coop</td>\n",
       "      <td>879</td>\n",
       "      <td>2012</td>\n",
       "      <td>75%</td>\n",
       "      <td>Austria</td>\n",
       "      <td>3.00</td>\n",
       "      <td>Criollo, Trinitario</td>\n",
       "      <td>Papua New Guinea</td>\n",
       "    </tr>\n",
       "    <tr>\n",
       "      <th>1786</th>\n",
       "      <td>Zotter</td>\n",
       "      <td>El Ceibo Coop</td>\n",
       "      <td>879</td>\n",
       "      <td>2012</td>\n",
       "      <td>90%</td>\n",
       "      <td>Austria</td>\n",
       "      <td>3.25</td>\n",
       "      <td></td>\n",
       "      <td>Bolivia</td>\n",
       "    </tr>\n",
       "    <tr>\n",
       "      <th>1787</th>\n",
       "      <td>Zotter</td>\n",
       "      <td>Santo Domingo</td>\n",
       "      <td>879</td>\n",
       "      <td>2012</td>\n",
       "      <td>70%</td>\n",
       "      <td>Austria</td>\n",
       "      <td>3.75</td>\n",
       "      <td></td>\n",
       "      <td>Dominican Republic</td>\n",
       "    </tr>\n",
       "    <tr>\n",
       "      <th>1788</th>\n",
       "      <td>Zotter</td>\n",
       "      <td>Kongo, Highlands</td>\n",
       "      <td>883</td>\n",
       "      <td>2012</td>\n",
       "      <td>68%</td>\n",
       "      <td>Austria</td>\n",
       "      <td>3.25</td>\n",
       "      <td>Forastero</td>\n",
       "      <td>Congo</td>\n",
       "    </tr>\n",
       "    <tr>\n",
       "      <th>1789</th>\n",
       "      <td>Zotter</td>\n",
       "      <td>Indianer, Raw</td>\n",
       "      <td>883</td>\n",
       "      <td>2012</td>\n",
       "      <td>58%</td>\n",
       "      <td>Austria</td>\n",
       "      <td>3.50</td>\n",
       "      <td></td>\n",
       "      <td></td>\n",
       "    </tr>\n",
       "    <tr>\n",
       "      <th>1790</th>\n",
       "      <td>Zotter</td>\n",
       "      <td>Peru</td>\n",
       "      <td>647</td>\n",
       "      <td>2011</td>\n",
       "      <td>70%</td>\n",
       "      <td>Austria</td>\n",
       "      <td>3.75</td>\n",
       "      <td></td>\n",
       "      <td>Peru</td>\n",
       "    </tr>\n",
       "    <tr>\n",
       "      <th>1791</th>\n",
       "      <td>Zotter</td>\n",
       "      <td>Congo</td>\n",
       "      <td>749</td>\n",
       "      <td>2011</td>\n",
       "      <td>65%</td>\n",
       "      <td>Austria</td>\n",
       "      <td>3.00</td>\n",
       "      <td>Forastero</td>\n",
       "      <td>Congo</td>\n",
       "    </tr>\n",
       "    <tr>\n",
       "      <th>1792</th>\n",
       "      <td>Zotter</td>\n",
       "      <td>Kerala State</td>\n",
       "      <td>749</td>\n",
       "      <td>2011</td>\n",
       "      <td>65%</td>\n",
       "      <td>Austria</td>\n",
       "      <td>3.50</td>\n",
       "      <td>Forastero</td>\n",
       "      <td>India</td>\n",
       "    </tr>\n",
       "    <tr>\n",
       "      <th>1793</th>\n",
       "      <td>Zotter</td>\n",
       "      <td>Kerala State</td>\n",
       "      <td>781</td>\n",
       "      <td>2011</td>\n",
       "      <td>62%</td>\n",
       "      <td>Austria</td>\n",
       "      <td>3.25</td>\n",
       "      <td></td>\n",
       "      <td>India</td>\n",
       "    </tr>\n",
       "    <tr>\n",
       "      <th>1794</th>\n",
       "      <td>Zotter</td>\n",
       "      <td>Brazil, Mitzi Blue</td>\n",
       "      <td>486</td>\n",
       "      <td>2010</td>\n",
       "      <td>65%</td>\n",
       "      <td>Austria</td>\n",
       "      <td>3.00</td>\n",
       "      <td></td>\n",
       "      <td>Brazil</td>\n",
       "    </tr>\n",
       "  </tbody>\n",
       "</table>\n",
       "</div>"
      ],
      "text/plain": [
       "     Company  (Maker-if known) Specific Bean Origin or Bar Name  REF  \\\n",
       "1785                    Zotter                     Huiwani Coop  879   \n",
       "1786                    Zotter                    El Ceibo Coop  879   \n",
       "1787                    Zotter                    Santo Domingo  879   \n",
       "1788                    Zotter                 Kongo, Highlands  883   \n",
       "1789                    Zotter                    Indianer, Raw  883   \n",
       "1790                    Zotter                             Peru  647   \n",
       "1791                    Zotter                            Congo  749   \n",
       "1792                    Zotter                     Kerala State  749   \n",
       "1793                    Zotter                     Kerala State  781   \n",
       "1794                    Zotter               Brazil, Mitzi Blue  486   \n",
       "\n",
       "      Review Date Cocoa Percent Company Location  Rating            Bean Type  \\\n",
       "1785         2012           75%          Austria    3.00  Criollo, Trinitario   \n",
       "1786         2012           90%          Austria    3.25                        \n",
       "1787         2012           70%          Austria    3.75                        \n",
       "1788         2012           68%          Austria    3.25            Forastero   \n",
       "1789         2012           58%          Austria    3.50                        \n",
       "1790         2011           70%          Austria    3.75                        \n",
       "1791         2011           65%          Austria    3.00            Forastero   \n",
       "1792         2011           65%          Austria    3.50            Forastero   \n",
       "1793         2011           62%          Austria    3.25                        \n",
       "1794         2010           65%          Austria    3.00                        \n",
       "\n",
       "       Broad Bean Origin  \n",
       "1785    Papua New Guinea  \n",
       "1786             Bolivia  \n",
       "1787  Dominican Republic  \n",
       "1788               Congo  \n",
       "1789                      \n",
       "1790                Peru  \n",
       "1791               Congo  \n",
       "1792               India  \n",
       "1793               India  \n",
       "1794              Brazil  "
      ]
     },
     "execution_count": 35,
     "metadata": {},
     "output_type": "execute_result"
    }
   ],
   "source": [
    "df.tail(10)"
   ]
  },
  {
   "cell_type": "markdown",
   "id": "ea1f7baa",
   "metadata": {},
   "source": [
    "Change percentage to decimal"
   ]
  },
  {
   "cell_type": "code",
   "execution_count": 41,
   "id": "16a5ed4c",
   "metadata": {},
   "outputs": [],
   "source": [
    "df['Cocoa Percent'] = df['Cocoa Percent'].apply(lambda x: float(x.strip('%'))/100)"
   ]
  },
  {
   "cell_type": "code",
   "execution_count": 42,
   "id": "13974cfb",
   "metadata": {},
   "outputs": [
    {
     "data": {
      "text/plain": [
       "0       0.63\n",
       "1       0.70\n",
       "2       0.70\n",
       "3       0.70\n",
       "4       0.70\n",
       "        ... \n",
       "1790    0.70\n",
       "1791    0.65\n",
       "1792    0.65\n",
       "1793    0.62\n",
       "1794    0.65\n",
       "Name: Cocoa Percent, Length: 1795, dtype: float64"
      ]
     },
     "execution_count": 42,
     "metadata": {},
     "output_type": "execute_result"
    }
   ],
   "source": [
    "df['Cocoa Percent']"
   ]
  },
  {
   "cell_type": "code",
   "execution_count": 49,
   "id": "b74922cb",
   "metadata": {},
   "outputs": [
    {
     "data": {
      "text/plain": [
       "Index(['Company  (Maker-if known)', 'Specific Bean Origin or Bar Name', 'REF',\n",
       "       'Review Date', 'Cocoa Percent', 'Company Location', 'Rating',\n",
       "       'Bean Type', 'Broad Bean Origin'],\n",
       "      dtype='object')"
      ]
     },
     "execution_count": 49,
     "metadata": {},
     "output_type": "execute_result"
    }
   ],
   "source": [
    "df.columns"
   ]
  },
  {
   "cell_type": "code",
   "execution_count": 55,
   "id": "497614d5",
   "metadata": {},
   "outputs": [
    {
     "data": {
      "text/plain": [
       "Madagascar                               57\n",
       "Peru                                     45\n",
       "Ecuador                                  42\n",
       "Dominican Republic                       37\n",
       "Venezuela                                21\n",
       "                                         ..\n",
       "D.R. Congo, Cru Virunga                   1\n",
       "Coopertiva Amazona w/ nibs                1\n",
       "Sambirano Valley, #214, LR, MC            1\n",
       "Guasare, Zulia Prov., 2015, batch 124     1\n",
       "Mababa                                    1\n",
       "Name: Specific Bean Origin or Bar Name, Length: 1039, dtype: int64"
      ]
     },
     "execution_count": 55,
     "metadata": {},
     "output_type": "execute_result"
    }
   ],
   "source": [
    "df['Specific Bean Origin or Bar Name'].value_counts()"
   ]
  },
  {
   "cell_type": "code",
   "execution_count": 61,
   "id": "3eff7b31",
   "metadata": {},
   "outputs": [],
   "source": [
    "df_high_percent = df[df['Cocoa Percent'] > 0.7 ]"
   ]
  },
  {
   "cell_type": "code",
   "execution_count": 62,
   "id": "8e477354",
   "metadata": {},
   "outputs": [
    {
     "data": {
      "text/plain": [
       "(795, 9)"
      ]
     },
     "execution_count": 62,
     "metadata": {},
     "output_type": "execute_result"
    }
   ],
   "source": [
    "df_high_percent.shape"
   ]
  },
  {
   "cell_type": "code",
   "execution_count": 69,
   "id": "36150cc2",
   "metadata": {},
   "outputs": [
    {
     "data": {
      "image/png": "[encoded data removed]",
      "text/plain": [
       "<Figure size 1080x720 with 1 Axes>"
      ]
     },
     "metadata": {
      "needs_background": "light"
     },
     "output_type": "display_data"
    }
   ],
   "source": [
    "plt.figure(figsize=(15,10))\n",
    "\n",
    "sns.scatterplot(x='Company Location', y='Rating', data=df_high_percent)\n",
    "plt.xticks(rotation=-60)\n",
    "\n",
    "plt.show()"
   ]
  },
  {
   "cell_type": "code",
   "execution_count": 78,
   "id": "a98b6192",
   "metadata": {},
   "outputs": [],
   "source": [
    "CONTINENTS = {'Fiji': 'Oceania',\n",
    "              'Switzerland': 'Europe',\n",
    "              'France': 'Europe', \n",
    "              'U.S.A.': 'North America',\n",
    "              'Peru': 'South America',\n",
    "              'Canada': 'North America',\n",
    "              'Italy': 'Europe',\n",
    "              'Brazil': 'South America',\n",
    "              'U.K.': 'Europe',\n",
    "              'Australia': 'Oceania',\n",
    "              'Wales': 'Europe',\n",
    "              'Belgium': 'Europe',\n",
    "              'Germany': 'Europe',\n",
    "              'Ecuador': 'South America',\n",
    "              'Venezuela': 'South America',\n",
    "              'Colombia': 'South America',\n",
    "              'Costa Rica': 'North America',\n",
    "              'Amsterdam': 'Europe',\n",
    "              'Scotland': 'Europe',\n",
    "              'Japan': 'Oceania',\n",
    "              'Sao Tome': 'Africa',\n",
    "              'Argentina': 'South America',\n",
    "              'Guatemala': 'North America',\n",
    "              'Bolivia': 'South America',\n",
    "              'Portugal': 'Europe',\n",
    "              'Puerto Rico': 'North America',\n",
    "              'Singapore': 'Asia',\n",
    "              'Denmark': 'Europe',\n",
    "              'Vietnam': 'Asia',\n",
    "              'Grenada': 'North America',\n",
    "              'New Zealand': 'Oceania',\n",
    "              'Israel': 'Europe',\n",
    "              'South Africa': 'Africa',\n",
    "              'Dominican Republic': 'North America',\n",
    "              'Mexico': 'North America',\n",
    "              'Finland': 'Europe',\n",
    "              'Madagascar': 'Africa',\n",
    "              'Poland': 'Europe',\n",
    "              'Austria': 'Europe',\n",
    "              'Houndoras': 'North America',\n",
    "              'Sweden': 'Europe',\n",
    "              'Lithuania': 'Europe',\n",
    "              'Nicaragua': 'North America',\n",
    "              'Ghana': 'Africa',\n",
    "              'Hungary': 'Europe',\n",
    "              'Ireland': 'Europe'\n",
    "}\n"
   ]
  },
  {
   "cell_type": "code",
   "execution_count": 79,
   "id": "468aeb60",
   "metadata": {},
   "outputs": [
    {
     "data": {
      "text/plain": [
       "array(['France', 'U.S.A.', 'Fiji', 'Ecuador', 'Mexico', 'Switzerland',\n",
       "       'Netherlands', 'Spain', 'Peru', 'Canada', 'Italy', 'Brazil',\n",
       "       'U.K.', 'Australia', 'Wales', 'Belgium', 'Germany', 'Russia',\n",
       "       'Puerto Rico', 'Venezuela', 'Colombia', 'Japan', 'New Zealand',\n",
       "       'Costa Rica', 'South Korea', 'Amsterdam', 'Scotland', 'Martinique',\n",
       "       'Sao Tome', 'Argentina', 'Guatemala', 'South Africa', 'Bolivia',\n",
       "       'St. Lucia', 'Portugal', 'Singapore', 'Denmark', 'Vietnam',\n",
       "       'Grenada', 'Israel', 'India', 'Czech Republic',\n",
       "       'Domincan Republic', 'Finland', 'Madagascar', 'Philippines',\n",
       "       'Sweden', 'Poland', 'Austria', 'Honduras', 'Nicaragua',\n",
       "       'Lithuania', 'Chile', 'Ghana', 'Iceland', 'Hungary', 'Suriname',\n",
       "       'Ireland'], dtype=object)"
      ]
     },
     "execution_count": 79,
     "metadata": {},
     "output_type": "execute_result"
    }
   ],
   "source": [
    "df['Company Location'].unique()"
   ]
  },
  {
   "cell_type": "code",
   "execution_count": 80,
   "id": "0d8a8e32",
   "metadata": {},
   "outputs": [],
   "source": [
    "df['Company Location'] = df['Company Location'].str.replace('Eucador', 'Ecuador')\n",
    "df['Company Location'] = df['Company Location'].str.replace('Niacragua', 'Nicaragua')"
   ]
  },
  {
   "cell_type": "code",
   "execution_count": 81,
   "id": "0eda4e3e",
   "metadata": {},
   "outputs": [
    {
     "data": {
      "text/plain": [
       "array(['France', 'U.S.A.', 'Fiji', 'Ecuador', 'Mexico', 'Switzerland',\n",
       "       'Netherlands', 'Spain', 'Peru', 'Canada', 'Italy', 'Brazil',\n",
       "       'U.K.', 'Australia', 'Wales', 'Belgium', 'Germany', 'Russia',\n",
       "       'Puerto Rico', 'Venezuela', 'Colombia', 'Japan', 'New Zealand',\n",
       "       'Costa Rica', 'South Korea', 'Amsterdam', 'Scotland', 'Martinique',\n",
       "       'Sao Tome', 'Argentina', 'Guatemala', 'South Africa', 'Bolivia',\n",
       "       'St. Lucia', 'Portugal', 'Singapore', 'Denmark', 'Vietnam',\n",
       "       'Grenada', 'Israel', 'India', 'Czech Republic',\n",
       "       'Domincan Republic', 'Finland', 'Madagascar', 'Philippines',\n",
       "       'Sweden', 'Poland', 'Austria', 'Honduras', 'Nicaragua',\n",
       "       'Lithuania', 'Chile', 'Ghana', 'Iceland', 'Hungary', 'Suriname',\n",
       "       'Ireland'], dtype=object)"
      ]
     },
     "execution_count": 81,
     "metadata": {},
     "output_type": "execute_result"
    }
   ],
   "source": [
    "df['Company Location'].unique()\n"
   ]
  },
  {
   "cell_type": "code",
   "execution_count": 83,
   "id": "5a0eef62",
   "metadata": {},
   "outputs": [
    {
     "name": "stderr",
     "output_type": "stream",
     "text": [
      "c:\\Users\\dmm46\\anaconda3\\envs\\learn-env\\lib\\site-packages\\pandas\\core\\frame.py:4296: SettingWithCopyWarning: \n",
      "A value is trying to be set on a copy of a slice from a DataFrame\n",
      "\n",
      "See the caveats in the documentation: https://pandas.pydata.org/pandas-docs/stable/user_guide/indexing.html#returning-a-view-versus-a-copy\n",
      "  return super().rename(\n",
      "<ipython-input-83-1d809273601a>:2: SettingWithCopyWarning: \n",
      "A value is trying to be set on a copy of a slice from a DataFrame.\n",
      "Try using .loc[row_indexer,col_indexer] = value instead\n",
      "\n",
      "See the caveats in the documentation: https://pandas.pydata.org/pandas-docs/stable/user_guide/indexing.html#returning-a-view-versus-a-copy\n",
      "  df_high_percent['Continents'] = df_high_percent.CompanyLocation.replace(CONTINENTS)\n"
     ]
    }
   ],
   "source": [
    "\n",
    "df_high_percent.rename(columns={'Company Location': 'CompanyLocation'}, inplace=True)\n",
    "df_high_percent['Continents'] = df_high_percent.CompanyLocation.replace(CONTINENTS)"
   ]
  },
  {
   "cell_type": "code",
   "execution_count": 85,
   "id": "ea9029df",
   "metadata": {},
   "outputs": [
    {
     "data": {
      "text/html": [
       "<div>\n",
       "<style scoped>\n",
       "    .dataframe tbody tr th:only-of-type {\n",
       "        vertical-align: middle;\n",
       "    }\n",
       "\n",
       "    .dataframe tbody tr th {\n",
       "        vertical-align: top;\n",
       "    }\n",
       "\n",
       "    .dataframe thead th {\n",
       "        text-align: right;\n",
       "    }\n",
       "</style>\n",
       "<table border=\"1\" class=\"dataframe\">\n",
       "  <thead>\n",
       "    <tr style=\"text-align: right;\">\n",
       "      <th></th>\n",
       "      <th>Company  (Maker-if known)</th>\n",
       "      <th>Specific Bean Origin or Bar Name</th>\n",
       "      <th>REF</th>\n",
       "      <th>Review Date</th>\n",
       "      <th>Cocoa Percent</th>\n",
       "      <th>CompanyLocation</th>\n",
       "      <th>Rating</th>\n",
       "      <th>Bean Type</th>\n",
       "      <th>Broad Bean Origin</th>\n",
       "      <th>Continents</th>\n",
       "    </tr>\n",
       "  </thead>\n",
       "  <tbody>\n",
       "    <tr>\n",
       "      <th>26</th>\n",
       "      <td>Adi</td>\n",
       "      <td>Vanua Levu, Toto-A</td>\n",
       "      <td>705</td>\n",
       "      <td>2011</td>\n",
       "      <td>0.80</td>\n",
       "      <td>Fiji</td>\n",
       "      <td>3.25</td>\n",
       "      <td>Trinitario</td>\n",
       "      <td>Fiji</td>\n",
       "      <td>Oceania</td>\n",
       "    </tr>\n",
       "    <tr>\n",
       "      <th>27</th>\n",
       "      <td>Adi</td>\n",
       "      <td>Vanua Levu</td>\n",
       "      <td>705</td>\n",
       "      <td>2011</td>\n",
       "      <td>0.88</td>\n",
       "      <td>Fiji</td>\n",
       "      <td>3.50</td>\n",
       "      <td>Trinitario</td>\n",
       "      <td>Fiji</td>\n",
       "      <td>Oceania</td>\n",
       "    </tr>\n",
       "    <tr>\n",
       "      <th>28</th>\n",
       "      <td>Adi</td>\n",
       "      <td>Vanua Levu, Ami-Ami-CA</td>\n",
       "      <td>705</td>\n",
       "      <td>2011</td>\n",
       "      <td>0.72</td>\n",
       "      <td>Fiji</td>\n",
       "      <td>3.50</td>\n",
       "      <td>Trinitario</td>\n",
       "      <td>Fiji</td>\n",
       "      <td>Oceania</td>\n",
       "    </tr>\n",
       "    <tr>\n",
       "      <th>32</th>\n",
       "      <td>Akesson's (Pralus)</td>\n",
       "      <td>Bali (west), Sukrama Family, Melaya area</td>\n",
       "      <td>636</td>\n",
       "      <td>2011</td>\n",
       "      <td>0.75</td>\n",
       "      <td>Switzerland</td>\n",
       "      <td>3.75</td>\n",
       "      <td>Trinitario</td>\n",
       "      <td>Indonesia</td>\n",
       "      <td>Europe</td>\n",
       "    </tr>\n",
       "    <tr>\n",
       "      <th>33</th>\n",
       "      <td>Akesson's (Pralus)</td>\n",
       "      <td>Madagascar, Ambolikapiky P.</td>\n",
       "      <td>502</td>\n",
       "      <td>2010</td>\n",
       "      <td>0.75</td>\n",
       "      <td>Switzerland</td>\n",
       "      <td>2.75</td>\n",
       "      <td>Criollo</td>\n",
       "      <td>Madagascar</td>\n",
       "      <td>Europe</td>\n",
       "    </tr>\n",
       "    <tr>\n",
       "      <th>...</th>\n",
       "      <td>...</td>\n",
       "      <td>...</td>\n",
       "      <td>...</td>\n",
       "      <td>...</td>\n",
       "      <td>...</td>\n",
       "      <td>...</td>\n",
       "      <td>...</td>\n",
       "      <td>...</td>\n",
       "      <td>...</td>\n",
       "      <td>...</td>\n",
       "    </tr>\n",
       "    <tr>\n",
       "      <th>1778</th>\n",
       "      <td>Zotter</td>\n",
       "      <td>Raw</td>\n",
       "      <td>1205</td>\n",
       "      <td>2014</td>\n",
       "      <td>0.80</td>\n",
       "      <td>Austria</td>\n",
       "      <td>2.75</td>\n",
       "      <td></td>\n",
       "      <td></td>\n",
       "      <td>Europe</td>\n",
       "    </tr>\n",
       "    <tr>\n",
       "      <th>1779</th>\n",
       "      <td>Zotter</td>\n",
       "      <td>Bocas del Toro, Cocabo Co-op</td>\n",
       "      <td>801</td>\n",
       "      <td>2012</td>\n",
       "      <td>0.72</td>\n",
       "      <td>Austria</td>\n",
       "      <td>3.50</td>\n",
       "      <td></td>\n",
       "      <td>Panama</td>\n",
       "      <td>Europe</td>\n",
       "    </tr>\n",
       "    <tr>\n",
       "      <th>1784</th>\n",
       "      <td>Zotter</td>\n",
       "      <td>El Oro</td>\n",
       "      <td>879</td>\n",
       "      <td>2012</td>\n",
       "      <td>0.75</td>\n",
       "      <td>Austria</td>\n",
       "      <td>3.00</td>\n",
       "      <td>Forastero (Nacional)</td>\n",
       "      <td>Ecuador</td>\n",
       "      <td>Europe</td>\n",
       "    </tr>\n",
       "    <tr>\n",
       "      <th>1785</th>\n",
       "      <td>Zotter</td>\n",
       "      <td>Huiwani Coop</td>\n",
       "      <td>879</td>\n",
       "      <td>2012</td>\n",
       "      <td>0.75</td>\n",
       "      <td>Austria</td>\n",
       "      <td>3.00</td>\n",
       "      <td>Criollo, Trinitario</td>\n",
       "      <td>Papua New Guinea</td>\n",
       "      <td>Europe</td>\n",
       "    </tr>\n",
       "    <tr>\n",
       "      <th>1786</th>\n",
       "      <td>Zotter</td>\n",
       "      <td>El Ceibo Coop</td>\n",
       "      <td>879</td>\n",
       "      <td>2012</td>\n",
       "      <td>0.90</td>\n",
       "      <td>Austria</td>\n",
       "      <td>3.25</td>\n",
       "      <td></td>\n",
       "      <td>Bolivia</td>\n",
       "      <td>Europe</td>\n",
       "    </tr>\n",
       "  </tbody>\n",
       "</table>\n",
       "<p>795 rows × 10 columns</p>\n",
       "</div>"
      ],
      "text/plain": [
       "     Company  (Maker-if known)          Specific Bean Origin or Bar Name  \\\n",
       "26                         Adi                        Vanua Levu, Toto-A   \n",
       "27                         Adi                                Vanua Levu   \n",
       "28                         Adi                    Vanua Levu, Ami-Ami-CA   \n",
       "32          Akesson's (Pralus)  Bali (west), Sukrama Family, Melaya area   \n",
       "33          Akesson's (Pralus)               Madagascar, Ambolikapiky P.   \n",
       "...                        ...                                       ...   \n",
       "1778                    Zotter                                       Raw   \n",
       "1779                    Zotter              Bocas del Toro, Cocabo Co-op   \n",
       "1784                    Zotter                                    El Oro   \n",
       "1785                    Zotter                              Huiwani Coop   \n",
       "1786                    Zotter                             El Ceibo Coop   \n",
       "\n",
       "       REF  Review Date  Cocoa Percent CompanyLocation  Rating  \\\n",
       "26     705         2011           0.80            Fiji    3.25   \n",
       "27     705         2011           0.88            Fiji    3.50   \n",
       "28     705         2011           0.72            Fiji    3.50   \n",
       "32     636         2011           0.75     Switzerland    3.75   \n",
       "33     502         2010           0.75     Switzerland    2.75   \n",
       "...    ...          ...            ...             ...     ...   \n",
       "1778  1205         2014           0.80         Austria    2.75   \n",
       "1779   801         2012           0.72         Austria    3.50   \n",
       "1784   879         2012           0.75         Austria    3.00   \n",
       "1785   879         2012           0.75         Austria    3.00   \n",
       "1786   879         2012           0.90         Austria    3.25   \n",
       "\n",
       "                 Bean Type Broad Bean Origin Continents  \n",
       "26              Trinitario              Fiji    Oceania  \n",
       "27              Trinitario              Fiji    Oceania  \n",
       "28              Trinitario              Fiji    Oceania  \n",
       "32              Trinitario         Indonesia     Europe  \n",
       "33                 Criollo        Madagascar     Europe  \n",
       "...                    ...               ...        ...  \n",
       "1778                                             Europe  \n",
       "1779                                  Panama     Europe  \n",
       "1784  Forastero (Nacional)           Ecuador     Europe  \n",
       "1785   Criollo, Trinitario  Papua New Guinea     Europe  \n",
       "1786                                 Bolivia     Europe  \n",
       "\n",
       "[795 rows x 10 columns]"
      ]
     },
     "execution_count": 85,
     "metadata": {},
     "output_type": "execute_result"
    }
   ],
   "source": [
    "df_high_percent"
   ]
  },
  {
   "cell_type": "code",
   "execution_count": 93,
   "id": "0c647ac2",
   "metadata": {},
   "outputs": [
    {
     "data": {
      "image/png": "[encoded data removed]",
      "text/plain": [
       "<Figure size 1080x720 with 1 Axes>"
      ]
     },
     "metadata": {
      "needs_background": "light"
     },
     "output_type": "display_data"
    }
   ],
   "source": [
    "plt.figure(figsize=(15,10))\n",
    "\n",
    "sns.scatterplot(x='Continents', y='Cocoa Percent', data=df_high_percent, hue='Rating', palette='rocket_r')\n",
    "plt.xticks(rotation=-60)\n",
    "\n",
    "plt.show()"
   ]
  },
  {
   "cell_type": "code",
   "execution_count": 95,
   "id": "896c6d0d",
   "metadata": {},
   "outputs": [
    {
     "data": {
      "image/png": "[encoded data removed]",
      "text/plain": [
       "<Figure size 1080x720 with 1 Axes>"
      ]
     },
     "metadata": {
      "needs_background": "light"
     },
     "output_type": "display_data"
    }
   ],
   "source": [
    "plt.figure(figsize=(15,10))\n",
    "\n",
    "sns.barplot(x='Continents', y='Cocoa Percent', data=df_high_percent, hue='Rating', palette='rocket_r')\n",
    "plt.xticks(rotation=-60)\n",
    "\n",
    "plt.show()"
   ]
  },
  {
   "cell_type": "code",
   "execution_count": 101,
   "id": "50407ce3",
   "metadata": {},
   "outputs": [
    {
     "data": {
      "image/png": "[encoded data removed]",
      "text/plain": [
       "<Figure size 1080x720 with 1 Axes>"
      ]
     },
     "metadata": {
      "needs_background": "light"
     },
     "output_type": "display_data"
    }
   ],
   "source": [
    "plt.figure(figsize=(15,10))\n",
    "\n",
    "sns.boxplot(x='Continents', y='Rating', data=df_high_percent, color='orange')\n",
    "plt.xticks(rotation=-60)\n",
    "\n",
    "plt.show()"
   ]
  },
  {
   "cell_type": "markdown",
   "id": "81c72fbf",
   "metadata": {},
   "source": [
    "### Asia and Spain seem to have the most consistence with it's raiting, with Oceania close behind. "
   ]
  },
  {
   "cell_type": "markdown",
   "id": "771dc787",
   "metadata": {},
   "source": [
    "## Let's determine if cocoa percent has an impact on the rating across this population"
   ]
  },
  {
   "cell_type": "code",
   "execution_count": 107,
   "id": "2514cd49",
   "metadata": {},
   "outputs": [],
   "source": [
    "#Find the mean, std, and sample size of percentage > 70%\n",
    "high_rating_mean = df_high_percent['Rating'].mean()\n",
    "high_rating_std = df_high_percent['Rating'].std()\n",
    "high_rating_sample_size = len(df_high_percent['Rating'])\n",
    "\n",
    "#find the mean, std, and popluation size\n",
    "mu = df['Rating'].mean()\n",
    "sigma = df['Rating'].std()\n",
    "population_size = len(df['Rating'])"
   ]
  },
  {
   "cell_type": "markdown",
   "id": "8b0c10bd",
   "metadata": {},
   "source": [
    "H0: There is no difference in rating between cocoa percentages\\\n",
    "H1: Higher percentage cocoa will have a higher rating than population size"
   ]
  },
  {
   "cell_type": "code",
   "execution_count": 108,
   "id": "297c46e1",
   "metadata": {},
   "outputs": [
    {
     "data": {
      "text/plain": [
       "Ttest_indResult(statistic=-3.703084283959536, pvalue=0.00022082976257972002)"
      ]
     },
     "execution_count": 108,
     "metadata": {},
     "output_type": "execute_result"
    }
   ],
   "source": [
    "stats.ttest_ind_from_stats(mean1=high_rating_mean, std1=high_rating_std, nobs1=high_rating_sample_size,\n",
    "                           mean2=mu, std2=sigma, nobs2=population_size,\n",
    "                           equal_var=False)"
   ]
  },
  {
   "cell_type": "markdown",
   "id": "e15c6c59",
   "metadata": {},
   "source": [
    "Decision: Reject the null!"
   ]
  },
  {
   "cell_type": "code",
   "execution_count": 109,
   "id": "bc8b92ad",
   "metadata": {},
   "outputs": [],
   "source": [
    "def perform_1_sided_t_test(bars, popmean, alpha=0.1):\n",
    "    _, p_value = stats.ttest_1samp(a=bars,\n",
    "                                   popmean=popmean)\n",
    "    print(p_value)\n",
    "    if p_value < alpha:\n",
    "        print(\"reject null\")\n",
    "    else:\n",
    "        print('fail to reject null')"
   ]
  },
  {
   "cell_type": "code",
   "execution_count": 113,
   "id": "6cce2185",
   "metadata": {},
   "outputs": [
    {
     "name": "stdout",
     "output_type": "stream",
     "text": [
      "1.1995355915047925e-05\n",
      "reject null\n"
     ]
    }
   ],
   "source": [
    "perform_1_sided_t_test(df_high_percent['Rating'], mu, 0.05)"
   ]
  }
 ],
 "metadata": {
  "kernelspec": {
   "display_name": "learn-env",
   "language": "python",
   "name": "python3"
  },
  "language_info": {
   "codemirror_mode": {
    "name": "ipython",
    "version": 3
   },
   "file_extension": ".py",
   "mimetype": "text/x-python",
   "name": "python",
   "nbconvert_exporter": "python",
   "pygments_lexer": "ipython3",
   "version": "3.8.5"
  }
 },
 "nbformat": 4,
 "nbformat_minor": 5
}
